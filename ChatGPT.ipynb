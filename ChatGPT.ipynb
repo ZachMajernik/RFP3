{
 "cells": [
  {
   "cell_type": "code",
   "execution_count": 10,
   "metadata": {},
   "outputs": [],
   "source": [
    "import gymnasium as gym\n",
    "import random\n",
    "from IPython.display import clear_output\n",
    "%config NotebookApp.iopub_msg_rate_limit=10000\n",
    "import time"
   ]
  },
  {
   "cell_type": "code",
   "execution_count": 11,
   "metadata": {},
   "outputs": [],
   "source": [
    "# Set the description of the environment\n",
    "# S=StartingPoint_Safe, F=FrozenSurface_Safe, H=Hole_NotSafe, G=Goal\n",
    "desc=[\"SFF\",\n",
    "      \"FHF\",\n",
    "      \"FGF\"]\n",
    "\n",
    "# Create the environment with the given description\n",
    "env = gym.make('FrozenLake-v1', desc=desc, map_name=\"3x3\", is_slippery=False, render_mode=\"human\")\n",
    "\n",
    "# Get initial observation and information from the environment\n",
    "observation, info = env.reset()\n",
    "\n",
    "# Get the size of the maze\n",
    "maze_rows = len(desc)\n",
    "maze_cols = len(desc[0])\n",
    "\n",
    "# Get the number of states and actions in the environment\n",
    "num_states = env.observation_space.n\n",
    "num_actions = env.action_space.n"
   ]
  },
  {
   "cell_type": "code",
   "execution_count": 12,
   "metadata": {},
   "outputs": [],
   "source": [
    "# Hyperparameters\n",
    "epsilon_value = 0.05\n",
    "learning_rate = 0.5\n",
    "\n",
    "# Initialize the Q-table\n",
    "q_table = {}\n",
    "current_state = 0"
   ]
  },
  {
   "cell_type": "code",
   "execution_count": 13,
   "metadata": {},
   "outputs": [],
   "source": [
    "# Reset the Q-table\n",
    "def reset_table():\n",
    "    global q_table, current_state\n",
    "    q_table = {state: [0] * num_actions for state in range(num_states)}\n",
    "    current_state = 0"
   ]
  },
  {
   "cell_type": "code",
   "execution_count": 14,
   "metadata": {},
   "outputs": [],
   "source": [
    "# Calculate possible moves from a given state\n",
    "def calculate_possible_moves(state):\n",
    "    possible_moves = []\n",
    "    if (state + 1) % maze_cols != 0:\n",
    "        possible_moves.append(2)\n",
    "    if (state + 1) % maze_cols != 1 and not state == 0:\n",
    "        possible_moves.append(0)\n",
    "    if state > (maze_cols - 1) and not state == 0:\n",
    "        possible_moves.append(3)\n",
    "    if state < ((maze_rows * maze_cols) - maze_cols):\n",
    "        possible_moves.append(1)\n",
    "    return possible_moves\n"
   ]
  },
  {
   "cell_type": "code",
   "execution_count": 15,
   "metadata": {},
   "outputs": [],
   "source": [
    "# Choose the next step using epsilon-greedy policy\n",
    "def next_step(state):\n",
    "    max_q_value = max(q_table[state])\n",
    "    if max_q_value >= epsilon_value:\n",
    "        next_move = q_table[state].index(max_q_value)\n",
    "    else:\n",
    "        possible_moves = calculate_possible_moves(state)\n",
    "        next_move = random.choice(possible_moves)\n",
    "    return next_move"
   ]
  },
  {
   "cell_type": "code",
   "execution_count": 16,
   "metadata": {},
   "outputs": [],
   "source": [
    "# Update the Q-table based on the observed reward\n",
    "def update_table(action, next_state, reward):\n",
    "    global current_state\n",
    "    updated_q_value = q_table[current_state][action] + learning_rate * (reward + max(q_table[next_state]) - q_table[current_state][action])\n",
    "    q_table[current_state][action] = updated_q_value\n",
    "    current_state = next_state\n"
   ]
  },
  {
   "cell_type": "code",
   "execution_count": 17,
   "metadata": {},
   "outputs": [
    {
     "name": "stdout",
     "output_type": "stream",
     "text": [
      "Episode: 26/25\n",
      "Time: 37.643 sec\n",
      "Q-Table:\n",
      "0: [0, 2.5950136482715607, 0.0, 0]\n",
      "1: [0.1875, 0.0, 0.0, 0]\n",
      "2: [0.0, 0.0, 0, 0]\n",
      "3: [0, 2.880781501531601, 0.0, 0.0]\n",
      "4: [0.0, 0.0, 0, 0]\n",
      "5: [0.0, 0.0, 0, 0.0]\n",
      "6: [0, 0, 3.166448548436165, 0.0]\n",
      "7: [0.0, 0, 0.03125, 2.309262603521347]\n",
      "8: [0.5, 0, 0, 0]\n",
      "No convergence\n"
     ]
    },
    {
     "ename": "",
     "evalue": "",
     "output_type": "error",
     "traceback": [
      "\u001b[1;31mThe Kernel crashed while executing code in the current cell or a previous cell. \n",
      "\u001b[1;31mPlease review the code in the cell(s) to identify a possible cause of the failure. \n",
      "\u001b[1;31mClick <a href='https://aka.ms/vscodeJupyterKernelCrash'>here</a> for more info. \n",
      "\u001b[1;31mView Jupyter <a href='command:jupyter.viewOutput'>log</a> for further details."
     ]
    }
   ],
   "source": [
    "# Convergence criteria\n",
    "convergence_thresh = 0.125\n",
    "\n",
    "# Main training loop\n",
    "max_episodes = 25\n",
    "current_episode = 1\n",
    "converged = False\n",
    "\n",
    "reset_table()\n",
    "env.reset()\n",
    "start_time = time.time()\n",
    "while current_episode <= max_episodes:\n",
    "    if converged:\n",
    "        break\n",
    "        \n",
    "    action = next_step(current_state)\n",
    "    observation, reward, terminated, _, _ = env.step(action)\n",
    "    \n",
    "    next_state = observation\n",
    "    update_table(action, next_state, reward)\n",
    "\n",
    "    if terminated or converged:\n",
    "        observation, info = env.reset()\n",
    "        if not converged:\n",
    "            current_episode += 1\n",
    "\n",
    "    if converged:\n",
    "        end_time = time.time()\n",
    "\n",
    "    clear_output(wait=True)\n",
    "    print(\"Episode: \" + str(current_episode) + \"/\" + str(max_episodes))\n",
    "    print(\"Time: \" + str(round(time.time()-start_time, 3)) + \" sec\")\n",
    "    print(\"Q-Table:\")\n",
    "    for state, values in q_table.items():\n",
    "        print(str(state) + \": \" + str(values))\n",
    "    \n",
    "if converged:\n",
    "    duration = end_time - start_time\n",
    "    print(str(round(duration, 3)) + \" seconds to converge\")\n",
    "else:\n",
    "    print(\"No convergence\")"
   ]
  }
 ],
 "metadata": {
  "kernelspec": {
   "display_name": "Python 3",
   "language": "python",
   "name": "python3"
  },
  "language_info": {
   "codemirror_mode": {
    "name": "ipython",
    "version": 3
   },
   "file_extension": ".py",
   "mimetype": "text/x-python",
   "name": "python",
   "nbconvert_exporter": "python",
   "pygments_lexer": "ipython3",
   "version": "3.undefined.undefined"
  }
 },
 "nbformat": 4,
 "nbformat_minor": 2
}
