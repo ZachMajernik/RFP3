{
 "cells": [
  {
   "cell_type": "code",
   "execution_count": 2,
   "metadata": {},
   "outputs": [],
   "source": [
    "import gymnasium as gym\n",
    "import random\n",
    "from IPython.display import clear_output\n",
    "%config NotebookApp.iopub_msg_rate_limit=10000\n",
    "import time"
   ]
  },
  {
   "cell_type": "code",
   "execution_count": 4,
   "metadata": {},
   "outputs": [],
   "source": [
    "desc=[\"SFHFF\",  #S=StartingPoint_Safe\n",
    "      \"FHHFF\",  #F=FrozenSurface_Safe\n",
    "      \"FFFGF\",  #H=Hole_NotSafe\n",
    "      ]       #G=Goal\n",
    "\n",
    "mazeSize = [len(desc),len(desc[0])]\n",
    "env = gym.make('FrozenLake-v1', desc=desc, map_name=\"3x3\", is_slippery=False, render_mode=\"human\")\n",
    "\n",
    "observation, info = env.reset()"
   ]
  },
  {
   "cell_type": "code",
   "execution_count": 13,
   "metadata": {},
   "outputs": [],
   "source": [
    "nb_states = env.observation_space.n #The States of the env, in our case: 0=(0,0), 8=(3,3)\n",
    "nb_actions = env.action_space.n #All Possible Actions, 0=left, 1=down, 2=right, 3=up"
   ]
  },
  {
   "cell_type": "code",
   "execution_count": 14,
   "metadata": {},
   "outputs": [],
   "source": [
    "#pygame.quit()"
   ]
  },
  {
   "cell_type": "code",
   "execution_count": 15,
   "metadata": {},
   "outputs": [],
   "source": [
    "#Hyperparameters\n",
    "epsilonValue = 0.05\n",
    "alpha = 0.5\n",
    "qTable = {}\n",
    "currentState = 0\n",
    "\n",
    "def resetTable():\n",
    "    global qTable\n",
    "    qTable = {}\n",
    "    for i in range(mazeSize[0]*mazeSize[1]):\n",
    "        qTable[i] = [0,0,0,0] \n",
    "    global currentState\n",
    "    currentState = 0"
   ]
  },
  {
   "cell_type": "code",
   "execution_count": 16,
   "metadata": {},
   "outputs": [],
   "source": [
    "def calcPossibleMoves(state):\n",
    "    possibleMoves = []\n",
    "    if (state+1) % mazeSize[1] != 0:\n",
    "        possibleMoves.append(2)\n",
    "        \n",
    "    if (state+1) % mazeSize[1] != 1:\n",
    "        if not state == 0:\n",
    "            possibleMoves.append(0)\n",
    "        \n",
    "    if state > (mazeSize[1]-1):\n",
    "        if not state == 0:\n",
    "            possibleMoves.append(3)\n",
    "    \n",
    "    if state < ((mazeSize[0] * mazeSize[1]) - mazeSize[1]):\n",
    "        possibleMoves.append(1)\n",
    "        \n",
    "    return possibleMoves"
   ]
  },
  {
   "cell_type": "code",
   "execution_count": 17,
   "metadata": {},
   "outputs": [],
   "source": [
    "def nextStep(state):\n",
    "    x = max(qTable[state])\n",
    "    if x >= epsilonValue:\n",
    "        nextMove = qTable[state].index(x)\n",
    "    else:\n",
    "        possMoves = calcPossibleMoves(state)\n",
    "        nextMove = possMoves[random.randrange(len(possMoves))]\n",
    "    return nextMove"
   ]
  },
  {
   "cell_type": "code",
   "execution_count": 18,
   "metadata": {},
   "outputs": [],
   "source": [
    "convergenceThresh = 0.125\n",
    "def updateTable(direction, nextState, reward):\n",
    "    didConverge = False\n",
    "    global currentState\n",
    "    updated = qTable[currentState][direction] + alpha*(reward + max(qTable[nextState]) - qTable[currentState][direction])\n",
    "    changeInQ = abs(qTable[currentState][direction] - updated)\n",
    "    if changeInQ < convergenceThresh:\n",
    "        if changeInQ > 0:\n",
    "            didConverge = True\n",
    "    qTable[currentState][direction] = updated\n",
    "    currentState = nextState\n",
    "    return didConverge, changeInQ"
   ]
  },
  {
   "cell_type": "code",
   "execution_count": 19,
   "metadata": {},
   "outputs": [
    {
     "name": "stdout",
     "output_type": "stream",
     "text": [
      "Episode: 12/1000\n",
      "Time: 19.328 sec\n",
      "Q-Table:\n",
      "0: [0, 0.125, 0.0, 0]\n",
      "1: [0.0, 0.0, 0.0, 0]\n",
      "2: [0.0, 0.0, 0, 0]\n",
      "3: [0, 0.5, 0.0, 0.0]\n",
      "4: [0.0, 0.0, 0.0, 0.0]\n",
      "5: [0.0, 0.0, 0, 0.0]\n",
      "6: [0, 0, 0.875, 0.0]\n",
      "7: [0.0625, 0, 0.0, 0.0]\n",
      "8: [0, 0, 0, 0.0]\n",
      "change in Q: 0.0625\n",
      "19.327 seconds to converge\n"
     ]
    }
   ],
   "source": [
    "maxEpisodes = 1000\n",
    "currentEpisode = 1\n",
    "converged = False\n",
    "\n",
    "resetTable()\n",
    "env.reset()\n",
    "start_time = time.time()\n",
    "while currentEpisode <= maxEpisodes:\n",
    "    if converged:\n",
    "        break\n",
    "        \n",
    "    direction = nextStep(currentState)\n",
    "    observation, reward, terminated, truncated, info = env.step(direction)\n",
    "    \n",
    "    converged, changeInQ = updateTable(direction, observation, reward)\n",
    "\n",
    "    if terminated or truncated or converged:\n",
    "        observation, info = env.reset()\n",
    "        if not converged:\n",
    "            currentEpisode += 1\n",
    "\n",
    "        \n",
    "    if converged:\n",
    "        end_time = time.time()\n",
    "\n",
    "    clear_output(wait=True)\n",
    "    print(\"Episode: \" + str(currentEpisode) + \"/\" + str(maxEpisodes))\n",
    "    print(\"Time: \" + str(round(time.time()-start_time, 3)) + \" sec\")\n",
    "    print(\"Q-Table:\")\n",
    "    for i in range(len(qTable)):\n",
    "        print(str(i) + \": \" + str(qTable[i]))\n",
    "    print(\"change in Q: \" + str(changeInQ))\n",
    "            \n",
    "if converged:\n",
    "    duration = end_time - start_time\n",
    "    print(str(round(duration, 3)) + \" seconds to converge\")\n",
    "else:\n",
    "    print(\"No convergence\")"
   ]
  },
  {
   "cell_type": "code",
   "execution_count": 20,
   "metadata": {},
   "outputs": [],
   "source": [
    "env.close()"
   ]
  }
 ],
 "metadata": {
  "kernelspec": {
   "display_name": "Python 3",
   "language": "python",
   "name": "python3"
  },
  "language_info": {
   "codemirror_mode": {
    "name": "ipython",
    "version": 3
   },
   "file_extension": ".py",
   "mimetype": "text/x-python",
   "name": "python",
   "nbconvert_exporter": "python",
   "pygments_lexer": "ipython3",
   "version": "3.12.2"
  }
 },
 "nbformat": 4,
 "nbformat_minor": 2
}
