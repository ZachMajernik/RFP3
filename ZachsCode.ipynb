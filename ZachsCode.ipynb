{
 "cells": [
  {
   "cell_type": "code",
   "execution_count": 1,
   "id": "26f7f354",
   "metadata": {},
   "outputs": [
    {
     "name": "stdout",
     "output_type": "stream",
     "text": [
      "Collecting gymnasium\n",
      "  Obtaining dependency information for gymnasium from https://files.pythonhosted.org/packages/a8/4d/3cbfd81ed84db450dbe73a89afcd8bc405273918415649ac6683356afe92/gymnasium-0.29.1-py3-none-any.whl.metadata\n",
      "  Downloading gymnasium-0.29.1-py3-none-any.whl.metadata (10 kB)\n",
      "Collecting renderlab\n",
      "  Obtaining dependency information for renderlab from https://files.pythonhosted.org/packages/76/43/c4f00b499d795417a26171629dabf995bfec61364a1080963678ac1a891c/renderlab-0.1.20230421184216-py3-none-any.whl.metadata\n",
      "  Downloading renderlab-0.1.20230421184216-py3-none-any.whl.metadata (1.9 kB)\n",
      "Requirement already satisfied: numpy>=1.21.0 in c:\\users\\zache\\anaconda3\\lib\\site-packages (from gymnasium) (1.24.3)\n",
      "Requirement already satisfied: cloudpickle>=1.2.0 in c:\\users\\zache\\anaconda3\\lib\\site-packages (from gymnasium) (2.2.1)\n",
      "Requirement already satisfied: typing-extensions>=4.3.0 in c:\\users\\zache\\anaconda3\\lib\\site-packages (from gymnasium) (4.7.1)\n",
      "Collecting farama-notifications>=0.0.1 (from gymnasium)\n",
      "  Obtaining dependency information for farama-notifications>=0.0.1 from https://files.pythonhosted.org/packages/05/2c/ffc08c54c05cdce6fbed2aeebc46348dbe180c6d2c541c7af7ba0aa5f5f8/Farama_Notifications-0.0.4-py3-none-any.whl.metadata\n",
      "  Downloading Farama_Notifications-0.0.4-py3-none-any.whl.metadata (558 bytes)\n",
      "Collecting moviepy (from renderlab)\n",
      "  Downloading moviepy-1.0.3.tar.gz (388 kB)\n",
      "     ---------------------------------------- 0.0/388.3 kB ? eta -:--:--\n",
      "     ------- ------------------------------- 71.7/388.3 kB 2.0 MB/s eta 0:00:01\n",
      "     -------------------------------------- 388.3/388.3 kB 6.1 MB/s eta 0:00:00\n",
      "  Preparing metadata (setup.py): started\n",
      "  Preparing metadata (setup.py): finished with status 'done'\n",
      "Collecting decorator<5.0,>=4.0.2 (from moviepy->renderlab)\n",
      "  Obtaining dependency information for decorator<5.0,>=4.0.2 from https://files.pythonhosted.org/packages/ed/1b/72a1821152d07cf1d8b6fce298aeb06a7eb90f4d6d41acec9861e7cc6df0/decorator-4.4.2-py2.py3-none-any.whl.metadata\n",
      "  Downloading decorator-4.4.2-py2.py3-none-any.whl.metadata (4.2 kB)\n",
      "Requirement already satisfied: tqdm<5.0,>=4.11.2 in c:\\users\\zache\\anaconda3\\lib\\site-packages (from moviepy->renderlab) (4.65.0)\n",
      "Requirement already satisfied: requests<3.0,>=2.8.1 in c:\\users\\zache\\anaconda3\\lib\\site-packages (from moviepy->renderlab) (2.31.0)\n",
      "Collecting proglog<=1.0.0 (from moviepy->renderlab)\n",
      "  Obtaining dependency information for proglog<=1.0.0 from https://files.pythonhosted.org/packages/8b/f5/cab5cf6a540c31f5099043de0ae43990fd9cf66f75ecb5e9f254a4e4d4ee/proglog-0.1.10-py3-none-any.whl.metadata\n",
      "  Downloading proglog-0.1.10-py3-none-any.whl.metadata (639 bytes)\n",
      "Requirement already satisfied: imageio<3.0,>=2.5 in c:\\users\\zache\\anaconda3\\lib\\site-packages (from moviepy->renderlab) (2.26.0)\n",
      "Collecting imageio_ffmpeg>=0.2.0 (from moviepy->renderlab)\n",
      "  Obtaining dependency information for imageio_ffmpeg>=0.2.0 from https://files.pythonhosted.org/packages/c6/01/716106099e48c4f419876d5814679a94dd7d6f441217c97c1b608123c6bb/imageio_ffmpeg-0.4.9-py3-none-win_amd64.whl.metadata\n",
      "  Downloading imageio_ffmpeg-0.4.9-py3-none-win_amd64.whl.metadata (1.7 kB)\n",
      "Requirement already satisfied: pillow>=8.3.2 in c:\\users\\zache\\anaconda3\\lib\\site-packages (from imageio<3.0,>=2.5->moviepy->renderlab) (9.4.0)\n",
      "Requirement already satisfied: setuptools in c:\\users\\zache\\anaconda3\\lib\\site-packages (from imageio_ffmpeg>=0.2.0->moviepy->renderlab) (68.0.0)\n",
      "Requirement already satisfied: charset-normalizer<4,>=2 in c:\\users\\zache\\anaconda3\\lib\\site-packages (from requests<3.0,>=2.8.1->moviepy->renderlab) (2.0.4)\n",
      "Requirement already satisfied: idna<4,>=2.5 in c:\\users\\zache\\anaconda3\\lib\\site-packages (from requests<3.0,>=2.8.1->moviepy->renderlab) (3.4)\n",
      "Requirement already satisfied: urllib3<3,>=1.21.1 in c:\\users\\zache\\anaconda3\\lib\\site-packages (from requests<3.0,>=2.8.1->moviepy->renderlab) (1.26.16)\n",
      "Requirement already satisfied: certifi>=2017.4.17 in c:\\users\\zache\\anaconda3\\lib\\site-packages (from requests<3.0,>=2.8.1->moviepy->renderlab) (2023.7.22)\n",
      "Requirement already satisfied: colorama in c:\\users\\zache\\anaconda3\\lib\\site-packages (from tqdm<5.0,>=4.11.2->moviepy->renderlab) (0.4.6)\n",
      "Downloading gymnasium-0.29.1-py3-none-any.whl (953 kB)\n",
      "   ---------------------------------------- 0.0/953.9 kB ? eta -:--:--\n",
      "   ------------------------------- ------- 768.0/953.9 kB 16.1 MB/s eta 0:00:01\n",
      "   --------------------------------------- 953.9/953.9 kB 15.0 MB/s eta 0:00:00\n",
      "Downloading renderlab-0.1.20230421184216-py3-none-any.whl (4.0 kB)\n",
      "Downloading Farama_Notifications-0.0.4-py3-none-any.whl (2.5 kB)\n",
      "Downloading decorator-4.4.2-py2.py3-none-any.whl (9.2 kB)\n",
      "Downloading imageio_ffmpeg-0.4.9-py3-none-win_amd64.whl (22.6 MB)\n",
      "   ---------------------------------------- 0.0/22.6 MB ? eta -:--:--\n",
      "   - -------------------------------------- 1.1/22.6 MB 23.7 MB/s eta 0:00:01\n",
      "   ---- ----------------------------------- 2.4/22.6 MB 26.2 MB/s eta 0:00:01\n",
      "   ------- -------------------------------- 4.1/22.6 MB 29.4 MB/s eta 0:00:01\n",
      "   ---------- ----------------------------- 6.1/22.6 MB 32.3 MB/s eta 0:00:01\n",
      "   -------------- ------------------------- 8.2/22.6 MB 34.9 MB/s eta 0:00:01\n",
      "   ------------------ --------------------- 10.4/22.6 MB 36.4 MB/s eta 0:00:01\n",
      "   ---------------------- ----------------- 12.6/22.6 MB 43.5 MB/s eta 0:00:01\n",
      "   -------------------------- ------------- 14.9/22.6 MB 46.7 MB/s eta 0:00:01\n",
      "   ------------------------------- -------- 17.7/22.6 MB 50.1 MB/s eta 0:00:01\n",
      "   ------------------------------------ --- 20.7/22.6 MB 54.7 MB/s eta 0:00:01\n",
      "   ---------------------------------------  22.6/22.6 MB 59.5 MB/s eta 0:00:01\n",
      "   ---------------------------------------  22.6/22.6 MB 59.5 MB/s eta 0:00:01\n",
      "   ---------------------------------------  22.6/22.6 MB 59.5 MB/s eta 0:00:01\n",
      "   ---------------------------------------- 22.6/22.6 MB 32.8 MB/s eta 0:00:00\n",
      "Downloading proglog-0.1.10-py3-none-any.whl (6.1 kB)\n",
      "Building wheels for collected packages: moviepy\n",
      "  Building wheel for moviepy (setup.py): started\n",
      "  Building wheel for moviepy (setup.py): finished with status 'done'\n",
      "  Created wheel for moviepy: filename=moviepy-1.0.3-py3-none-any.whl size=110773 sha256=52351f7f92fe7c6a7e7655e1c395924d67bd089b9b0fb717b220d7f1e2a87459\n",
      "  Stored in directory: c:\\users\\zache\\appdata\\local\\pip\\cache\\wheels\\83\\b1\\d9\\119ef7c144b44d591ec0a9a140465133c23ea95d2a161184ba\n",
      "Successfully built moviepy\n",
      "Installing collected packages: farama-notifications, imageio_ffmpeg, gymnasium, decorator, proglog, moviepy, renderlab\n",
      "  Attempting uninstall: decorator\n",
      "    Found existing installation: decorator 5.1.1\n",
      "    Uninstalling decorator-5.1.1:\n",
      "      Successfully uninstalled decorator-5.1.1\n",
      "Successfully installed decorator-4.4.2 farama-notifications-0.0.4 gymnasium-0.29.1 imageio_ffmpeg-0.4.9 moviepy-1.0.3 proglog-0.1.10 renderlab-0.1.20230421184216\n"
     ]
    }
   ],
   "source": [
    "!pip install gymnasium renderlab"
   ]
  },
  {
   "cell_type": "code",
   "execution_count": 2,
   "id": "eb6aac3e",
   "metadata": {},
   "outputs": [
    {
     "name": "stdout",
     "output_type": "stream",
     "text": [
      "Collecting opencv-python\n",
      "  Obtaining dependency information for opencv-python from https://files.pythonhosted.org/packages/c7/ec/9dabb6a9abfdebb3c45b0cc52dec901caafef2b2c7e7d6a839ed86d81e91/opencv_python-4.9.0.80-cp37-abi3-win_amd64.whl.metadata\n",
      "  Downloading opencv_python-4.9.0.80-cp37-abi3-win_amd64.whl.metadata (20 kB)\n",
      "Requirement already satisfied: numpy>=1.21.2 in c:\\users\\zache\\anaconda3\\lib\\site-packages (from opencv-python) (1.24.3)\n",
      "Downloading opencv_python-4.9.0.80-cp37-abi3-win_amd64.whl (38.6 MB)\n",
      "   ---------------------------------------- 0.0/38.6 MB ? eta -:--:--\n",
      "   ---------------------------------------- 0.1/38.6 MB 1.7 MB/s eta 0:00:24\n",
      "   - -------------------------------------- 1.6/38.6 MB 20.6 MB/s eta 0:00:02\n",
      "   ---- ----------------------------------- 4.7/38.6 MB 37.8 MB/s eta 0:00:01\n",
      "   -------- ------------------------------- 8.0/38.6 MB 46.6 MB/s eta 0:00:01\n",
      "   ------------ --------------------------- 11.6/38.6 MB 73.1 MB/s eta 0:00:01\n",
      "   --------------- ------------------------ 15.0/38.6 MB 73.1 MB/s eta 0:00:01\n",
      "   ------------------- -------------------- 18.8/38.6 MB 73.1 MB/s eta 0:00:01\n",
      "   ----------------------- ---------------- 22.7/38.6 MB 81.8 MB/s eta 0:00:01\n",
      "   ------------------------- -------------- 24.3/38.6 MB 65.6 MB/s eta 0:00:01\n",
      "   ---------------------------- ----------- 27.7/38.6 MB 65.6 MB/s eta 0:00:01\n",
      "   ------------------------------- -------- 30.9/38.6 MB 59.5 MB/s eta 0:00:01\n",
      "   ----------------------------------- ---- 34.6/38.6 MB 72.6 MB/s eta 0:00:01\n",
      "   -------------------------------------- - 37.3/38.6 MB 65.6 MB/s eta 0:00:01\n",
      "   ---------------------------------------  38.6/38.6 MB 72.6 MB/s eta 0:00:01\n",
      "   ---------------------------------------  38.6/38.6 MB 72.6 MB/s eta 0:00:01\n",
      "   ---------------------------------------  38.6/38.6 MB 72.6 MB/s eta 0:00:01\n",
      "   ---------------------------------------  38.6/38.6 MB 72.6 MB/s eta 0:00:01\n",
      "   ---------------------------------------- 38.6/38.6 MB 31.1 MB/s eta 0:00:00\n",
      "Installing collected packages: opencv-python\n",
      "Successfully installed opencv-python-4.9.0.80\n"
     ]
    }
   ],
   "source": [
    "!pip install opencv-python"
   ]
  },
  {
   "cell_type": "code",
   "execution_count": 3,
   "id": "00bb34aa",
   "metadata": {},
   "outputs": [
    {
     "name": "stdout",
     "output_type": "stream",
     "text": [
      "Collecting pygame\n",
      "  Obtaining dependency information for pygame from https://files.pythonhosted.org/packages/82/61/93ae7afbd931a70510cfdf0a7bb0007540020b8d80bc1d8762ebdc46479b/pygame-2.5.2-cp311-cp311-win_amd64.whl.metadata\n",
      "  Downloading pygame-2.5.2-cp311-cp311-win_amd64.whl.metadata (13 kB)\n",
      "Downloading pygame-2.5.2-cp311-cp311-win_amd64.whl (10.8 MB)\n",
      "   ---------------------------------------- 0.0/10.8 MB ? eta -:--:--\n",
      "   ---------------------------------------- 0.0/10.8 MB 640.0 kB/s eta 0:00:17\n",
      "   -- ------------------------------------- 0.7/10.8 MB 8.3 MB/s eta 0:00:02\n",
      "   ------ --------------------------------- 1.7/10.8 MB 13.4 MB/s eta 0:00:01\n",
      "   ---------- ----------------------------- 2.9/10.8 MB 18.3 MB/s eta 0:00:01\n",
      "   ---------------- ----------------------- 4.5/10.8 MB 21.9 MB/s eta 0:00:01\n",
      "   ----------------------- ---------------- 6.2/10.8 MB 24.9 MB/s eta 0:00:01\n",
      "   ------------------------------ --------- 8.3/10.8 MB 27.9 MB/s eta 0:00:01\n",
      "   ---------------------------------------  10.7/10.8 MB 36.4 MB/s eta 0:00:01\n",
      "   ---------------------------------------  10.8/10.8 MB 36.4 MB/s eta 0:00:01\n",
      "   ---------------------------------------- 10.8/10.8 MB 28.5 MB/s eta 0:00:00\n",
      "Installing collected packages: pygame\n",
      "Successfully installed pygame-2.5.2\n"
     ]
    }
   ],
   "source": [
    "!pip install pygame"
   ]
  },
  {
   "cell_type": "code",
   "execution_count": 4,
   "id": "74465ea4",
   "metadata": {},
   "outputs": [],
   "source": [
    "import gymnasium as gym\n",
    "import random\n",
    "from IPython.display import clear_output\n",
    "%config NotebookApp.iopub_msg_rate_limit=10000\n",
    "import time"
   ]
  },
  {
   "cell_type": "code",
   "execution_count": 14,
   "id": "03d3f34e",
   "metadata": {},
   "outputs": [],
   "source": [
    "#visualise maze:\n",
    "\n",
    "desc=[\"SFFF\", \"FHHH\", \"FFFF\", \"HFHF\", \"FFGF\"]\n",
    "\n",
    "env = gym.make('FrozenLake-v1', desc=desc, map_name=\"5x5\", is_slippery=False, render_mode=\"human\") "
   ]
  },
  {
   "cell_type": "code",
   "execution_count": 15,
   "id": "7b33ae9e",
   "metadata": {},
   "outputs": [],
   "source": [
    "observation, info = env.reset()"
   ]
  },
  {
   "cell_type": "code",
   "execution_count": 69,
   "id": "c34a33ec",
   "metadata": {},
   "outputs": [],
   "source": [
    "# Q-LEARNING\n",
    "\n",
    "epsilonValue = 0.05\n",
    "alpha = 0.5\n",
    "\n",
    "mazeSize = [5,4]\n",
    "qTable = {}\n",
    "for i in range(mazeSize[0]*mazeSize[1]):\n",
    "    qTable[i] = [0,0,0,0]\n",
    "    \n",
    "currentState = 0"
   ]
  },
  {
   "cell_type": "code",
   "execution_count": null,
   "id": "3947c36c",
   "metadata": {},
   "outputs": [],
   "source": [
    "def calcPossibleMoves(state):\n",
    "    possibleMoves = []\n",
    "    if (state+1) % mazeSize[1] != 0:\n",
    "        possibleMoves.append(2)\n",
    "        \n",
    "    if (state+1) % mazeSize[1] != 1:\n",
    "        if not state == 0:\n",
    "            possibleMoves.append(0)\n",
    "        \n",
    "    if state > (mazeSize[1]-1):\n",
    "        if not state == 0:\n",
    "            possibleMoves.append(3)\n",
    "    \n",
    "    if state < ((mazeSize[0] * mazeSize[1]) - mazeSize[1]):\n",
    "        possibleMoves.append(1)\n",
    "        \n",
    "    return possibleMoves"
   ]
  },
  {
   "cell_type": "code",
   "execution_count": null,
   "id": "d39ff8ea",
   "metadata": {},
   "outputs": [],
   "source": [
    "def nextStep(state):\n",
    "    x = max(qTable[state])\n",
    "    if x >= epsilonValue:\n",
    "        nextMove = qTable[state].index(x)\n",
    "    else:\n",
    "        possMoves = calcPossibleMoves(state)\n",
    "        nextMove = possMoves[random.randrange(len(possMoves))]\n",
    "    return nextMove"
   ]
  },
  {
   "cell_type": "code",
   "execution_count": null,
   "id": "acbf1ef9",
   "metadata": {},
   "outputs": [],
   "source": [
    "convergenceThresh = 0.05\n",
    "converged = False\n",
    "def updateTable(direction, nextState, reward):\n",
    "    global currentState\n",
    "    updated = qTable[currentState][direction] + alpha*(reward + max(qTable[nextState]) - qTable[currentState][direction])\n",
    "    changeInQ = abs(qTable[currentState][direction] - updated)\n",
    "    if changeInQ > 0 and changeInQ < convergenceThresh:\n",
    "        converged = True\n",
    "    qTable[currentState][direction] = updated\n",
    "    currentState = nextState"
   ]
  },
  {
   "cell_type": "code",
   "execution_count": 80,
   "id": "93fee2bf",
   "metadata": {},
   "outputs": [
    {
     "ename": "error",
     "evalue": "display Surface quit",
     "output_type": "error",
     "traceback": [
      "\u001b[1;31m---------------------------------------------------------------------------\u001b[0m",
      "\u001b[1;31merror\u001b[0m                                     Traceback (most recent call last)",
      "Cell \u001b[1;32mIn[80], line 9\u001b[0m\n\u001b[0;32m      7\u001b[0m \u001b[38;5;28;01mwhile\u001b[39;00m currentEpisode \u001b[38;5;241m<\u001b[39m maxEpisodes:\n\u001b[0;32m      8\u001b[0m     direction \u001b[38;5;241m=\u001b[39m nextStep(currentState)\n\u001b[1;32m----> 9\u001b[0m     observation, reward, terminated, truncated, info \u001b[38;5;241m=\u001b[39m env\u001b[38;5;241m.\u001b[39mstep(direction)\n\u001b[0;32m     11\u001b[0m     updateTable(direction, observation, reward)\n\u001b[0;32m     13\u001b[0m     \u001b[38;5;28;01mif\u001b[39;00m terminated \u001b[38;5;129;01mor\u001b[39;00m truncated:\n",
      "File \u001b[1;32m~\\anaconda3\\Lib\\site-packages\\gymnasium\\wrappers\\time_limit.py:57\u001b[0m, in \u001b[0;36mTimeLimit.step\u001b[1;34m(self, action)\u001b[0m\n\u001b[0;32m     46\u001b[0m \u001b[38;5;28;01mdef\u001b[39;00m \u001b[38;5;21mstep\u001b[39m(\u001b[38;5;28mself\u001b[39m, action):\n\u001b[0;32m     47\u001b[0m \u001b[38;5;250m    \u001b[39m\u001b[38;5;124;03m\"\"\"Steps through the environment and if the number of steps elapsed exceeds ``max_episode_steps`` then truncate.\u001b[39;00m\n\u001b[0;32m     48\u001b[0m \n\u001b[0;32m     49\u001b[0m \u001b[38;5;124;03m    Args:\u001b[39;00m\n\u001b[1;32m   (...)\u001b[0m\n\u001b[0;32m     55\u001b[0m \n\u001b[0;32m     56\u001b[0m \u001b[38;5;124;03m    \"\"\"\u001b[39;00m\n\u001b[1;32m---> 57\u001b[0m     observation, reward, terminated, truncated, info \u001b[38;5;241m=\u001b[39m \u001b[38;5;28mself\u001b[39m\u001b[38;5;241m.\u001b[39menv\u001b[38;5;241m.\u001b[39mstep(action)\n\u001b[0;32m     58\u001b[0m     \u001b[38;5;28mself\u001b[39m\u001b[38;5;241m.\u001b[39m_elapsed_steps \u001b[38;5;241m+\u001b[39m\u001b[38;5;241m=\u001b[39m \u001b[38;5;241m1\u001b[39m\n\u001b[0;32m     60\u001b[0m     \u001b[38;5;28;01mif\u001b[39;00m \u001b[38;5;28mself\u001b[39m\u001b[38;5;241m.\u001b[39m_elapsed_steps \u001b[38;5;241m>\u001b[39m\u001b[38;5;241m=\u001b[39m \u001b[38;5;28mself\u001b[39m\u001b[38;5;241m.\u001b[39m_max_episode_steps:\n",
      "File \u001b[1;32m~\\anaconda3\\Lib\\site-packages\\gymnasium\\wrappers\\order_enforcing.py:56\u001b[0m, in \u001b[0;36mOrderEnforcing.step\u001b[1;34m(self, action)\u001b[0m\n\u001b[0;32m     54\u001b[0m \u001b[38;5;28;01mif\u001b[39;00m \u001b[38;5;129;01mnot\u001b[39;00m \u001b[38;5;28mself\u001b[39m\u001b[38;5;241m.\u001b[39m_has_reset:\n\u001b[0;32m     55\u001b[0m     \u001b[38;5;28;01mraise\u001b[39;00m ResetNeeded(\u001b[38;5;124m\"\u001b[39m\u001b[38;5;124mCannot call env.step() before calling env.reset()\u001b[39m\u001b[38;5;124m\"\u001b[39m)\n\u001b[1;32m---> 56\u001b[0m \u001b[38;5;28;01mreturn\u001b[39;00m \u001b[38;5;28mself\u001b[39m\u001b[38;5;241m.\u001b[39menv\u001b[38;5;241m.\u001b[39mstep(action)\n",
      "File \u001b[1;32m~\\anaconda3\\Lib\\site-packages\\gymnasium\\wrappers\\env_checker.py:51\u001b[0m, in \u001b[0;36mPassiveEnvChecker.step\u001b[1;34m(self, action)\u001b[0m\n\u001b[0;32m     49\u001b[0m     \u001b[38;5;28;01mreturn\u001b[39;00m env_step_passive_checker(\u001b[38;5;28mself\u001b[39m\u001b[38;5;241m.\u001b[39menv, action)\n\u001b[0;32m     50\u001b[0m \u001b[38;5;28;01melse\u001b[39;00m:\n\u001b[1;32m---> 51\u001b[0m     \u001b[38;5;28;01mreturn\u001b[39;00m \u001b[38;5;28mself\u001b[39m\u001b[38;5;241m.\u001b[39menv\u001b[38;5;241m.\u001b[39mstep(action)\n",
      "File \u001b[1;32m~\\anaconda3\\Lib\\site-packages\\gymnasium\\envs\\toy_text\\frozen_lake.py:308\u001b[0m, in \u001b[0;36mFrozenLakeEnv.step\u001b[1;34m(self, a)\u001b[0m\n\u001b[0;32m    305\u001b[0m \u001b[38;5;28mself\u001b[39m\u001b[38;5;241m.\u001b[39mlastaction \u001b[38;5;241m=\u001b[39m a\n\u001b[0;32m    307\u001b[0m \u001b[38;5;28;01mif\u001b[39;00m \u001b[38;5;28mself\u001b[39m\u001b[38;5;241m.\u001b[39mrender_mode \u001b[38;5;241m==\u001b[39m \u001b[38;5;124m\"\u001b[39m\u001b[38;5;124mhuman\u001b[39m\u001b[38;5;124m\"\u001b[39m:\n\u001b[1;32m--> 308\u001b[0m     \u001b[38;5;28mself\u001b[39m\u001b[38;5;241m.\u001b[39mrender()\n\u001b[0;32m    309\u001b[0m \u001b[38;5;28;01mreturn\u001b[39;00m (\u001b[38;5;28mint\u001b[39m(s), r, t, \u001b[38;5;28;01mFalse\u001b[39;00m, {\u001b[38;5;124m\"\u001b[39m\u001b[38;5;124mprob\u001b[39m\u001b[38;5;124m\"\u001b[39m: p})\n",
      "File \u001b[1;32m~\\anaconda3\\Lib\\site-packages\\gymnasium\\envs\\toy_text\\frozen_lake.py:338\u001b[0m, in \u001b[0;36mFrozenLakeEnv.render\u001b[1;34m(self)\u001b[0m\n\u001b[0;32m    336\u001b[0m     \u001b[38;5;28;01mreturn\u001b[39;00m \u001b[38;5;28mself\u001b[39m\u001b[38;5;241m.\u001b[39m_render_text()\n\u001b[0;32m    337\u001b[0m \u001b[38;5;28;01melse\u001b[39;00m:  \u001b[38;5;66;03m# self.render_mode in {\"human\", \"rgb_array\"}:\u001b[39;00m\n\u001b[1;32m--> 338\u001b[0m     \u001b[38;5;28;01mreturn\u001b[39;00m \u001b[38;5;28mself\u001b[39m\u001b[38;5;241m.\u001b[39m_render_gui(\u001b[38;5;28mself\u001b[39m\u001b[38;5;241m.\u001b[39mrender_mode)\n",
      "File \u001b[1;32m~\\anaconda3\\Lib\\site-packages\\gymnasium\\envs\\toy_text\\frozen_lake.py:408\u001b[0m, in \u001b[0;36mFrozenLakeEnv._render_gui\u001b[1;34m(self, mode)\u001b[0m\n\u001b[0;32m    405\u001b[0m pos \u001b[38;5;241m=\u001b[39m (x \u001b[38;5;241m*\u001b[39m \u001b[38;5;28mself\u001b[39m\u001b[38;5;241m.\u001b[39mcell_size[\u001b[38;5;241m0\u001b[39m], y \u001b[38;5;241m*\u001b[39m \u001b[38;5;28mself\u001b[39m\u001b[38;5;241m.\u001b[39mcell_size[\u001b[38;5;241m1\u001b[39m])\n\u001b[0;32m    406\u001b[0m rect \u001b[38;5;241m=\u001b[39m (\u001b[38;5;241m*\u001b[39mpos, \u001b[38;5;241m*\u001b[39m\u001b[38;5;28mself\u001b[39m\u001b[38;5;241m.\u001b[39mcell_size)\n\u001b[1;32m--> 408\u001b[0m \u001b[38;5;28mself\u001b[39m\u001b[38;5;241m.\u001b[39mwindow_surface\u001b[38;5;241m.\u001b[39mblit(\u001b[38;5;28mself\u001b[39m\u001b[38;5;241m.\u001b[39mice_img, pos)\n\u001b[0;32m    409\u001b[0m \u001b[38;5;28;01mif\u001b[39;00m desc[y][x] \u001b[38;5;241m==\u001b[39m \u001b[38;5;124mb\u001b[39m\u001b[38;5;124m\"\u001b[39m\u001b[38;5;124mH\u001b[39m\u001b[38;5;124m\"\u001b[39m:\n\u001b[0;32m    410\u001b[0m     \u001b[38;5;28mself\u001b[39m\u001b[38;5;241m.\u001b[39mwindow_surface\u001b[38;5;241m.\u001b[39mblit(\u001b[38;5;28mself\u001b[39m\u001b[38;5;241m.\u001b[39mhole_img, pos)\n",
      "\u001b[1;31merror\u001b[0m: display Surface quit"
     ]
    }
   ],
   "source": [
    "maxEpisodes = 40\n",
    "currentEpisode = 1\n",
    "\n",
    "while not converged:\n",
    "    if currentEpisode == maxEpisodes:\n",
    "       break\n",
    "    while currentEpisode < maxEpisodes:\n",
    "        direction = nextStep(currentState)\n",
    "        observation, reward, terminated, truncated, info = env.step(direction)\n",
    "\n",
    "        updateTable(direction, observation, reward)\n",
    "\n",
    "        if terminated or truncated:\n",
    "            observation, info = env.reset()\n",
    "            currentEpisode += 1\n",
    "\n",
    "        clear_output(wait=True)\n",
    "        print(\"Episode: \" + str(currentEpisode) + \"/\" + str(maxEpisodes))\n",
    "        print(\"Q-Table:\")\n",
    "        for i in range(len(qTable)):\n",
    "            print(str(i) + \": \" + str(qTable[i]))"
   ]
  },
  {
   "cell_type": "code",
   "execution_count": 11,
   "id": "6db2d001",
   "metadata": {},
   "outputs": [
    {
     "data": {
      "text/plain": [
       "(0, {'prob': 1})"
      ]
     },
     "execution_count": 11,
     "metadata": {},
     "output_type": "execute_result"
    }
   ],
   "source": [
    "env.reset()"
   ]
  },
  {
   "cell_type": "code",
   "execution_count": 77,
   "id": "345a586d",
   "metadata": {},
   "outputs": [],
   "source": [
    "env.close()"
   ]
  },
  {
   "cell_type": "code",
   "execution_count": null,
   "id": "bd0c4fa0",
   "metadata": {},
   "outputs": [],
   "source": []
  }
 ],
 "metadata": {
  "kernelspec": {
   "display_name": "Python 3 (ipykernel)",
   "language": "python",
   "name": "python3"
  },
  "language_info": {
   "codemirror_mode": {
    "name": "ipython",
    "version": 3
   },
   "file_extension": ".py",
   "mimetype": "text/x-python",
   "name": "python",
   "nbconvert_exporter": "python",
   "pygments_lexer": "ipython3",
   "version": "3.11.5"
  }
 },
 "nbformat": 4,
 "nbformat_minor": 5
}
